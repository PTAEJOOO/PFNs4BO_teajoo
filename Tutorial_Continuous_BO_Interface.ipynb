{
 "cells": [
  {
   "cell_type": "markdown",
   "id": "657642b6",
   "metadata": {},
   "source": [
    "# Continuous benchmarks\n",
    "To use our model on continuous setups, we recommend using the interface in `pfns4bo/pfn_bo_bayesmark.py`.\n",
    "This is a standard BayesMark interface.\n",
    "The calls to this interface used in our BayesMark experiments are given in `pfns4bo/config.json`."
   ]
  },
  {
   "cell_type": "code",
   "execution_count": 1,
   "id": "e5f0b80f",
   "metadata": {},
   "outputs": [],
   "source": [
    "import pfns4bo"
   ]
  },
  {
   "cell_type": "code",
   "execution_count": 2,
   "id": "e1f18a73",
   "metadata": {},
   "outputs": [],
   "source": [
    "# copied from `pfns4bo/config.json`\n",
    "config = {\n",
    "            \"pfn_file\": pfns4bo.hebo_plus_model,\n",
    "            # alternatively give a relative path from pfns4bo\n",
    "            #\"pfn_file\" : \"final_models/model_hebo_morebudget_9_unused_features_3.pt\",\n",
    "            \"minimize\": 1,\n",
    "            \"fit_encoder_from_step\": None,\n",
    "            \"sample_only_valid\": 1,\n",
    "            \"pre_sample_size\": 1000,\n",
    "            \"num_candidates\": 10,\n",
    "            \"max_initial_design\": 1,\n",
    "            \"fixed_initial_guess\": 0.0\n",
    "        }"
   ]
  },
  {
   "cell_type": "code",
   "execution_count": 3,
   "id": "92a3979a",
   "metadata": {},
   "outputs": [],
   "source": [
    "import warnings\n",
    "warnings.filterwarnings('ignore', category=FutureWarning)"
   ]
  },
  {
   "cell_type": "code",
   "execution_count": 4,
   "id": "779d3b02",
   "metadata": {
    "scrolled": false
   },
   "outputs": [
    {
     "name": "stderr",
     "output_type": "stream",
     "text": [
      "c:\\Users\\82109\\anaconda3\\envs\\my_pfns4bo\\lib\\site-packages\\tqdm\\auto.py:21: TqdmWarning: IProgress not found. Please update jupyter and ipywidgets. See https://ipywidgets.readthedocs.io/en/stable/user_install.html\n",
      "  from .autonotebook import tqdm as notebook_tqdm\n"
     ]
    },
    {
     "ename": "ImportError",
     "evalue": "cannot import name 'module_to_array' from 'botorch.optim' (c:\\Users\\82109\\anaconda3\\envs\\my_pfns4bo\\lib\\site-packages\\botorch\\optim\\__init__.py)",
     "output_type": "error",
     "traceback": [
      "\u001b[1;31m---------------------------------------------------------------------------\u001b[0m",
      "\u001b[1;31mImportError\u001b[0m                               Traceback (most recent call last)",
      "Cell \u001b[1;32mIn[4], line 1\u001b[0m\n\u001b[1;32m----> 1\u001b[0m \u001b[38;5;28;01mfrom\u001b[39;00m \u001b[38;5;21;01mpfns4bo\u001b[39;00m\u001b[38;5;21;01m.\u001b[39;00m\u001b[38;5;21;01mpfn_bo_bayesmark\u001b[39;00m \u001b[38;5;28;01mimport\u001b[39;00m PFNOptimizer\n\u001b[0;32m      2\u001b[0m \u001b[38;5;28;01mfrom\u001b[39;00m \u001b[38;5;21;01mbayesmark\u001b[39;00m\u001b[38;5;21;01m.\u001b[39;00m\u001b[38;5;21;01mexperiment\u001b[39;00m \u001b[38;5;28;01mimport\u001b[39;00m _build_test_problem, run_study, OBJECTIVE_NAMES\n\u001b[0;32m      3\u001b[0m \u001b[38;5;28;01mimport\u001b[39;00m \u001b[38;5;21;01mos\u001b[39;00m\n",
      "File \u001b[1;32mc:\\Users\\82109\\dsl_lab\\PFNs4BO_teajoo\\pfns4bo\\pfn_bo_bayesmark.py:14\u001b[0m\n\u001b[0;32m     12\u001b[0m \u001b[38;5;66;03m# from scipy.stats import qmc\u001b[39;00m\n\u001b[0;32m     13\u001b[0m \u001b[38;5;28;01mfrom\u001b[39;00m \u001b[38;5;21;01mtorch\u001b[39;00m\u001b[38;5;21;01m.\u001b[39;00m\u001b[38;5;21;01mquasirandom\u001b[39;00m \u001b[38;5;28;01mimport\u001b[39;00m SobolEngine\n\u001b[1;32m---> 14\u001b[0m \u001b[38;5;28;01mfrom\u001b[39;00m \u001b[38;5;21;01m.\u001b[39;00m\u001b[38;5;21;01mscripts\u001b[39;00m \u001b[38;5;28;01mimport\u001b[39;00m acquisition_functions, tune_input_warping\n\u001b[0;32m     16\u001b[0m \u001b[38;5;28;01mclass\u001b[39;00m \u001b[38;5;21;01mPFNOptimizer\u001b[39;00m(AbstractOptimizer):\n\u001b[0;32m     17\u001b[0m     \u001b[38;5;66;03m# Used for determining the version number of package used\u001b[39;00m\n\u001b[0;32m     18\u001b[0m     \u001b[38;5;66;03m# primary_import = \"\"\u001b[39;00m\n\u001b[0;32m     20\u001b[0m     \u001b[38;5;28;01mdef\u001b[39;00m \u001b[38;5;21m__init__\u001b[39m(\u001b[38;5;28mself\u001b[39m, api_config, pfn_file, minimize\u001b[38;5;241m=\u001b[39m\u001b[38;5;28;01mTrue\u001b[39;00m, acqf_optimizer_name\u001b[38;5;241m=\u001b[39m\u001b[38;5;124m\"\u001b[39m\u001b[38;5;124mlbfgs\u001b[39m\u001b[38;5;124m\"\u001b[39m, sobol_sampler\u001b[38;5;241m=\u001b[39m\u001b[38;5;28;01mFalse\u001b[39;00m,\n\u001b[0;32m     21\u001b[0m                  device\u001b[38;5;241m=\u001b[39m\u001b[38;5;124m\"\u001b[39m\u001b[38;5;124mcpu:0\u001b[39m\u001b[38;5;124m\"\u001b[39m, fit_encoder_from_step\u001b[38;5;241m=\u001b[39m\u001b[38;5;28;01mNone\u001b[39;00m, verbose\u001b[38;5;241m=\u001b[39m\u001b[38;5;28;01mFalse\u001b[39;00m, rand_bool\u001b[38;5;241m=\u001b[39m\u001b[38;5;28;01mFalse\u001b[39;00m, sample_only_valid\u001b[38;5;241m=\u001b[39m\u001b[38;5;28;01mFalse\u001b[39;00m,\n\u001b[0;32m     22\u001b[0m                  round_suggests_to\u001b[38;5;241m=\u001b[39m\u001b[38;5;241m4\u001b[39m, min_initial_design\u001b[38;5;241m=\u001b[39m\u001b[38;5;241m0\u001b[39m, max_initial_design\u001b[38;5;241m=\u001b[39m\u001b[38;5;28;01mNone\u001b[39;00m, rand_sugg_after_x_steps_of_stagnation\u001b[38;5;241m=\u001b[39m\u001b[38;5;28;01mNone\u001b[39;00m,\n\u001b[0;32m     23\u001b[0m                  fixed_initial_guess\u001b[38;5;241m=\u001b[39m\u001b[38;5;28;01mNone\u001b[39;00m,minmax_encode_y\u001b[38;5;241m=\u001b[39m\u001b[38;5;28;01mFalse\u001b[39;00m,\u001b[38;5;241m*\u001b[39m\u001b[38;5;241m*\u001b[39macqf_kwargs):\n",
      "File \u001b[1;32mc:\\Users\\82109\\dsl_lab\\PFNs4BO_teajoo\\pfns4bo\\scripts\\tune_input_warping.py:9\u001b[0m\n\u001b[0;32m      6\u001b[0m \u001b[38;5;28;01mfrom\u001b[39;00m \u001b[38;5;21;01m.\u001b[39;00m\u001b[38;5;21;01m.\u001b[39;00m\u001b[38;5;21;01mpriors\u001b[39;00m\u001b[38;5;21;01m.\u001b[39;00m\u001b[38;5;21;01mhebo_prior\u001b[39;00m \u001b[38;5;28;01mimport\u001b[39;00m Warp\n\u001b[0;32m      7\u001b[0m \u001b[38;5;28;01mfrom\u001b[39;00m \u001b[38;5;21;01mgpytorch\u001b[39;00m\u001b[38;5;21;01m.\u001b[39;00m\u001b[38;5;21;01mpriors\u001b[39;00m \u001b[38;5;28;01mimport\u001b[39;00m LogNormalPrior\n\u001b[1;32m----> 9\u001b[0m \u001b[38;5;28;01mfrom\u001b[39;00m \u001b[38;5;21;01mbotorch\u001b[39;00m\u001b[38;5;21;01m.\u001b[39;00m\u001b[38;5;21;01moptim\u001b[39;00m \u001b[38;5;28;01mimport\u001b[39;00m module_to_array, set_params_with_array\n\u001b[0;32m     10\u001b[0m \u001b[38;5;28;01mimport\u001b[39;00m \u001b[38;5;21;01mscipy\u001b[39;00m\n\u001b[0;32m     11\u001b[0m \u001b[38;5;28;01mfrom\u001b[39;00m \u001b[38;5;21;01mscipy\u001b[39;00m\u001b[38;5;21;01m.\u001b[39;00m\u001b[38;5;21;01moptimize\u001b[39;00m \u001b[38;5;28;01mimport\u001b[39;00m Bounds\n",
      "\u001b[1;31mImportError\u001b[0m: cannot import name 'module_to_array' from 'botorch.optim' (c:\\Users\\82109\\anaconda3\\envs\\my_pfns4bo\\lib\\site-packages\\botorch\\optim\\__init__.py)"
     ]
    }
   ],
   "source": [
    "from pfns4bo.pfn_bo_bayesmark import PFNOptimizer\n",
    "from bayesmark.experiment import _build_test_problem, run_study, OBJECTIVE_NAMES\n",
    "import os\n",
    "\n",
    "\n",
    "#function_instance = _build_test_problem(model_name='ada', dataset='breast', scorer='nll', path=None)\n",
    "function_instance = _build_test_problem(model_name='ada', dataset='boston', scorer='mse', path=None)\n",
    "\n",
    "# Setup optimizer\n",
    "api_config = function_instance.get_api_config()\n",
    "# check is file\n",
    "\n",
    "opt = PFNOptimizer(api_config, verbose=True, device=\"cpu:0\", **config)\n",
    "\n",
    "function_evals, timing, suggest_log = run_study(\n",
    "    opt, function_instance, n_calls=3, n_suggestions=1, callback=None, n_obj=len(OBJECTIVE_NAMES),\n",
    ")"
   ]
  },
  {
   "cell_type": "code",
   "execution_count": null,
   "id": "b9c37d46",
   "metadata": {},
   "outputs": [],
   "source": []
  }
 ],
 "metadata": {
  "kernelspec": {
   "display_name": "Python 3 (ipykernel)",
   "language": "python",
   "name": "python3"
  },
  "language_info": {
   "codemirror_mode": {
    "name": "ipython",
    "version": 3
   },
   "file_extension": ".py",
   "mimetype": "text/x-python",
   "name": "python",
   "nbconvert_exporter": "python",
   "pygments_lexer": "ipython3",
   "version": "3.9.18"
  }
 },
 "nbformat": 4,
 "nbformat_minor": 5
}
