{
 "cells": [
  {
   "cell_type": "code",
   "execution_count": 2,
   "metadata": {},
   "outputs": [],
   "source": [
    "import torch\n",
    "import torch.nn as nn"
   ]
  },
  {
   "cell_type": "code",
   "execution_count": 3,
   "metadata": {},
   "outputs": [],
   "source": [
    "decoder = nn.Linear(50,100)"
   ]
  },
  {
   "cell_type": "code",
   "execution_count": 4,
   "metadata": {},
   "outputs": [
    {
     "name": "stdout",
     "output_type": "stream",
     "text": [
      "torch.Size([32, 100, 100])\n"
     ]
    }
   ],
   "source": [
    "decoder_input = torch.rand(32,100,50)\n",
    "decoder_output = decoder(decoder_input)\n",
    "print(decoder_output.shape)"
   ]
  },
  {
   "cell_type": "code",
   "execution_count": 8,
   "metadata": {},
   "outputs": [
    {
     "name": "stdout",
     "output_type": "stream",
     "text": [
      "tensor([-0.5429,  0.1227,  0.0110, -0.4651,  0.7660,  0.0779,  0.2449,  0.3732,\n",
      "         0.3800, -0.1639,  0.6562,  0.1780,  0.3019,  0.0467,  0.0702,  0.2159,\n",
      "        -0.1773,  0.0942,  0.3221,  0.4792,  0.1777, -0.1560, -0.6616, -0.1838,\n",
      "        -0.2362, -0.1038,  0.0331,  0.0358,  0.1601,  0.5581, -0.1937, -0.2368,\n",
      "        -0.5671, -0.2868, -0.0548,  0.0942,  0.3078, -0.5778, -0.4113, -0.3674,\n",
      "        -0.4079, -0.0991, -0.0970, -0.7989,  0.4702,  0.1936,  0.1360, -0.0653,\n",
      "         0.1467,  0.1137,  0.2418,  0.2629,  0.0456,  0.8190, -0.0350,  0.0391,\n",
      "         0.3904, -0.0106, -0.0492,  0.5394, -0.1494,  0.2481, -0.3660, -0.1801,\n",
      "        -0.0498, -0.1198, -0.3664,  0.5216, -0.0057,  0.1634,  0.0130, -0.1429,\n",
      "         0.3137, -0.2151, -0.0798,  0.1564, -0.1899,  0.3421,  0.1557, -0.1384,\n",
      "        -0.2376, -0.1527,  0.1235,  0.3306, -0.0356, -0.1805, -0.0021,  0.0671,\n",
      "         0.0292,  0.2990, -0.0171, -0.0305,  0.6222,  0.2481, -0.3432,  0.1940,\n",
      "         0.2331,  0.1524,  0.1992,  0.2963], grad_fn=<SelectBackward0>)\n",
      "torch.Size([3200, 100])\n"
     ]
    }
   ],
   "source": [
    "loss_input = decoder_output.reshape(-1, 100)\n",
    "print(loss_input[0])\n",
    "print(loss_input.shape)"
   ]
  },
  {
   "cell_type": "code",
   "execution_count": 10,
   "metadata": {},
   "outputs": [],
   "source": [
    "def get_bucket_limits(num_outputs:int, full_range:tuple=None, ys:torch.Tensor=None):\n",
    "    assert (ys is not None) or (full_range is not None)\n",
    "    if ys is not None:\n",
    "        ys = ys.flatten()\n",
    "        if len(ys) % num_outputs: ys = ys[:-(len(ys) % num_outputs)]\n",
    "        print(f'Using {len(ys)} y evals to estimate {num_outputs} buckets. Cut off the last {len(ys) % num_outputs} ys.')\n",
    "        ys_per_bucket = len(ys) // num_outputs\n",
    "        if full_range is None:\n",
    "            full_range = (ys.min(), ys.max())\n",
    "        else:\n",
    "            assert full_range[0] <= ys.min() and full_range[1] >= ys.max()\n",
    "            full_range = torch.tensor(full_range)\n",
    "        ys_sorted, ys_order = ys.sort(0)\n",
    "        bucket_limits = (ys_sorted[ys_per_bucket-1::ys_per_bucket][:-1]+ys_sorted[ys_per_bucket::ys_per_bucket])/2\n",
    "        print(full_range)\n",
    "        bucket_limits = torch.cat([full_range[0].unsqueeze(0), bucket_limits, full_range[1].unsqueeze(0)],0)\n",
    "\n",
    "    else:\n",
    "        class_width = (full_range[1] - full_range[0]) / num_outputs\n",
    "        bucket_limits = torch.cat([full_range[0] + torch.arange(num_outputs).float()*class_width, torch.tensor(full_range[1]).unsqueeze(0)], 0)\n",
    "\n",
    "    assert len(bucket_limits) - 1 == num_outputs and full_range[0] == bucket_limits[0] and full_range[-1] == bucket_limits[-1]\n",
    "    return bucket_limits"
   ]
  },
  {
   "cell_type": "code",
   "execution_count": 11,
   "metadata": {},
   "outputs": [
    {
     "name": "stdout",
     "output_type": "stream",
     "text": [
      "tensor([-5.0000, -4.9000, -4.8000, -4.7000, -4.6000, -4.5000, -4.4000, -4.3000,\n",
      "        -4.2000, -4.1000, -4.0000, -3.9000, -3.8000, -3.7000, -3.6000, -3.5000,\n",
      "        -3.4000, -3.3000, -3.2000, -3.1000, -3.0000, -2.9000, -2.8000, -2.7000,\n",
      "        -2.6000, -2.5000, -2.4000, -2.3000, -2.2000, -2.1000, -2.0000, -1.9000,\n",
      "        -1.8000, -1.7000, -1.6000, -1.5000, -1.4000, -1.3000, -1.2000, -1.1000,\n",
      "        -1.0000, -0.9000, -0.8000, -0.7000, -0.6000, -0.5000, -0.4000, -0.3000,\n",
      "        -0.2000, -0.1000,  0.0000,  0.1000,  0.2000,  0.3000,  0.4000,  0.5000,\n",
      "         0.6000,  0.7000,  0.8000,  0.9000,  1.0000,  1.1000,  1.2000,  1.3000,\n",
      "         1.4000,  1.5000,  1.6000,  1.7000,  1.8000,  1.9000,  2.0000,  2.1000,\n",
      "         2.2000,  2.3000,  2.4000,  2.5000,  2.6000,  2.7000,  2.8000,  2.9000,\n",
      "         3.0000,  3.1000,  3.2000,  3.3000,  3.4000,  3.5000,  3.6000,  3.7000,\n",
      "         3.8000,  3.9000,  4.0000,  4.1000,  4.2000,  4.3000,  4.4000,  4.5000,\n",
      "         4.6000,  4.7000,  4.8000,  4.9000,  5.0000])\n"
     ]
    }
   ],
   "source": [
    "borders=get_bucket_limits(100, full_range=(-5,5))\n",
    "print(borders)"
   ]
  },
  {
   "cell_type": "code",
   "execution_count": 59,
   "metadata": {},
   "outputs": [
    {
     "name": "stdout",
     "output_type": "stream",
     "text": [
      "tensor([-5.2321, -4.5665, -4.6782, -5.1543, -3.9232, -4.6113, -4.4443, -4.3160,\n",
      "        -4.3092, -4.8532, -4.0330, -4.5112, -4.3873, -4.6425, -4.6190, -4.4733,\n",
      "        -4.8665, -4.5950, -4.3671, -4.2100, -4.5115, -4.8452, -5.3508, -4.8730,\n",
      "        -4.9254, -4.7930, -4.6561, -4.6535, -4.5291, -4.1311, -4.8829, -4.9260,\n",
      "        -5.2563, -4.9760, -4.7440, -4.5950, -4.3814, -5.2670, -5.1005, -5.0566,\n",
      "        -5.0971, -4.7883, -4.7862, -5.4881, -4.2190, -4.4956, -4.5532, -4.7545,\n",
      "        -4.5425, -4.5755, -4.4474, -4.4263, -4.6436, -3.8702, -4.7242, -4.6501,\n",
      "        -4.2988, -4.6998, -4.7384, -4.1498, -4.8386, -4.4411, -5.0552, -4.8693,\n",
      "        -4.7391, -4.8090, -5.0556, -4.1676, -4.6949, -4.5258, -4.6762, -4.8321,\n",
      "        -4.3755, -4.9043, -4.7690, -4.5328, -4.8791, -4.3471, -4.5335, -4.8276,\n",
      "        -4.9268, -4.8420, -4.5658, -4.3586, -4.7248, -4.8697, -4.6913, -4.6221,\n",
      "        -4.6600, -4.3902, -4.7063, -4.7197, -4.0670, -4.4411, -5.0324, -4.4952,\n",
      "        -4.4561, -4.5368, -4.4900, -4.3929], grad_fn=<SelectBackward0>)\n",
      "torch.Size([3200, 100])\n",
      "tensor([-2.9295, -2.2639, -2.3756, -2.8517, -1.6206, -2.3087, -2.1417, -2.0134,\n",
      "        -2.0066, -2.5506, -1.7304, -2.2086, -2.0847, -2.3399, -2.3164, -2.1707,\n",
      "        -2.5639, -2.2924, -2.0645, -1.9074, -2.2089, -2.5427, -3.0482, -2.5704,\n",
      "        -2.6228, -2.4904, -2.3535, -2.3509, -2.2266, -1.8285, -2.5803, -2.6234,\n",
      "        -2.9537, -2.6734, -2.4414, -2.2924, -2.0788, -2.9644, -2.7980, -2.7540,\n",
      "        -2.7945, -2.4858, -2.4836, -3.1856, -1.9164, -2.1930, -2.2507, -2.4519,\n",
      "        -2.2400, -2.2729, -2.1448, -2.1237, -2.3410, -1.5676, -2.4217, -2.3476,\n",
      "        -1.9963, -2.3972, -2.4358, -1.8473, -2.5360, -2.1385, -2.7526, -2.5667,\n",
      "        -2.4365, -2.5064, -2.7531, -1.8650, -2.3923, -2.2232, -2.3736, -2.5296,\n",
      "        -2.0730, -2.6017, -2.4664, -2.2302, -2.5765, -2.0445, -2.2309, -2.5250,\n",
      "        -2.6242, -2.5394, -2.2632, -2.0560, -2.4222, -2.5672, -2.3887, -2.3195,\n",
      "        -2.3574, -2.0877, -2.4037, -2.4171, -1.7644, -2.1385, -2.7298, -2.1926,\n",
      "        -2.1535, -2.2343, -2.1874, -2.0904], grad_fn=<SelectBackward0>)\n",
      "torch.Size([3200, 100])\n"
     ]
    }
   ],
   "source": [
    "bucket_log_probs = torch.log_softmax(loss_input, -1)\n",
    "print(bucket_log_probs[0])\n",
    "print(bucket_log_probs.shape)\n",
    "\n",
    "bucket_widths = borders[1:] - borders[:-1]\n",
    "scaled_bucket_log_probs = bucket_log_probs - torch.log(bucket_widths)\n",
    "print(scaled_bucket_log_probs[0])\n",
    "print(scaled_bucket_log_probs.shape)"
   ]
  },
  {
   "cell_type": "code",
   "execution_count": 15,
   "metadata": {},
   "outputs": [],
   "source": [
    "def map_to_bucket_idx(borders, y):\n",
    "    target_sample = torch.searchsorted(borders, y) - 1\n",
    "    target_sample[y == borders[0]] = 0\n",
    "    target_sample[y == borders[-1]] = 100 - 1\n",
    "    return target_sample"
   ]
  },
  {
   "cell_type": "code",
   "execution_count": 72,
   "metadata": {},
   "outputs": [
    {
     "name": "stdout",
     "output_type": "stream",
     "text": [
      "torch.Size([3200])\n",
      "torch.Size([3200])\n",
      "torch.Size([3200, 1])\n",
      "tensor(56)\n",
      "tensor(1.9963, grad_fn=<NegBackward0>)\n",
      "tensor(54)\n",
      "tensor(2.6940, grad_fn=<NegBackward0>)\n"
     ]
    }
   ],
   "source": [
    "targets = torch.rand(32,100,1).flatten()\n",
    "print(targets.shape)\n",
    "target_sample = map_to_bucket_idx(borders, targets)\n",
    "print(target_sample.shape)\n",
    "print(target_sample.unsqueeze(-1).shape)\n",
    "print(target_sample[0])\n",
    "print(-scaled_bucket_log_probs[0,target_sample[0]])\n",
    "print(target_sample[-2])\n",
    "print(-scaled_bucket_log_probs[-2,target_sample[-2]])"
   ]
  },
  {
   "cell_type": "code",
   "execution_count": 73,
   "metadata": {},
   "outputs": [
    {
     "name": "stdout",
     "output_type": "stream",
     "text": [
      "tensor([1.9963, 2.0241, 1.8783,  ..., 1.7400, 2.6940, 2.2911],\n",
      "       grad_fn=<NegBackward0>)\n",
      "torch.Size([3200])\n"
     ]
    }
   ],
   "source": [
    "losses = -scaled_bucket_log_probs.gather(-1,target_sample.unsqueeze(-1)).squeeze(-1)\n",
    "print(losses)\n",
    "print(losses.size())\n"
   ]
  },
  {
   "cell_type": "code",
   "execution_count": 52,
   "metadata": {},
   "outputs": [
    {
     "name": "stdout",
     "output_type": "stream",
     "text": [
      "torch.Size([3200])\n",
      "torch.Size([32, 100])\n",
      "torch.Size([])\n"
     ]
    }
   ],
   "source": [
    "print(losses.shape)\n",
    "losses = losses.view(*decoder_output.shape[0:2]).squeeze(-1)\n",
    "print(losses.shape)\n",
    "loss = losses.mean()\n",
    "print(loss.shape)"
   ]
  }
 ],
 "metadata": {
  "kernelspec": {
   "display_name": "my_pfns4bo",
   "language": "python",
   "name": "python3"
  },
  "language_info": {
   "codemirror_mode": {
    "name": "ipython",
    "version": 3
   },
   "file_extension": ".py",
   "mimetype": "text/x-python",
   "name": "python",
   "nbconvert_exporter": "python",
   "pygments_lexer": "ipython3",
   "version": "3.9.18"
  }
 },
 "nbformat": 4,
 "nbformat_minor": 2
}
